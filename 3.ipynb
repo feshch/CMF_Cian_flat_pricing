{
 "cells": [
  {
   "cell_type": "markdown",
   "metadata": {},
   "source": [
    "# Построение моделей"
   ]
  },
  {
   "cell_type": "code",
   "execution_count": 1,
   "metadata": {
    "collapsed": false
   },
   "outputs": [
    {
     "data": {
      "text/html": [
       "<div>\n",
       "<table border=\"1\" class=\"dataframe\">\n",
       "  <thead>\n",
       "    <tr style=\"text-align: right;\">\n",
       "      <th></th>\n",
       "      <th>Unnamed: 0</th>\n",
       "      <th>Bal</th>\n",
       "      <th>Brick</th>\n",
       "      <th>Dist</th>\n",
       "      <th>Floor</th>\n",
       "      <th>Kitsp</th>\n",
       "      <th>Livesp</th>\n",
       "      <th>Metrdist</th>\n",
       "      <th>New</th>\n",
       "      <th>Nfloor</th>\n",
       "      <th>Price</th>\n",
       "      <th>Rooms</th>\n",
       "      <th>Totsp</th>\n",
       "      <th>Walk</th>\n",
       "    </tr>\n",
       "  </thead>\n",
       "  <tbody>\n",
       "    <tr>\n",
       "      <th>0</th>\n",
       "      <td>0</td>\n",
       "      <td>1</td>\n",
       "      <td>1</td>\n",
       "      <td>0.592859</td>\n",
       "      <td>4</td>\n",
       "      <td>3.135494</td>\n",
       "      <td>4.553877</td>\n",
       "      <td>7.0</td>\n",
       "      <td>0</td>\n",
       "      <td>8.0</td>\n",
       "      <td>71014225</td>\n",
       "      <td>3.0</td>\n",
       "      <td>4.770685</td>\n",
       "      <td>1.0</td>\n",
       "    </tr>\n",
       "    <tr>\n",
       "      <th>1</th>\n",
       "      <td>1</td>\n",
       "      <td>1</td>\n",
       "      <td>1</td>\n",
       "      <td>1.239630</td>\n",
       "      <td>6</td>\n",
       "      <td>3.621671</td>\n",
       "      <td>3.806662</td>\n",
       "      <td>9.0</td>\n",
       "      <td>0</td>\n",
       "      <td>14.0</td>\n",
       "      <td>85000000</td>\n",
       "      <td>3.0</td>\n",
       "      <td>4.737075</td>\n",
       "      <td>1.0</td>\n",
       "    </tr>\n",
       "    <tr>\n",
       "      <th>2</th>\n",
       "      <td>2</td>\n",
       "      <td>1</td>\n",
       "      <td>1</td>\n",
       "      <td>0.781791</td>\n",
       "      <td>7</td>\n",
       "      <td>2.564949</td>\n",
       "      <td>4.234107</td>\n",
       "      <td>6.0</td>\n",
       "      <td>0</td>\n",
       "      <td>8.0</td>\n",
       "      <td>55000000</td>\n",
       "      <td>3.0</td>\n",
       "      <td>4.820282</td>\n",
       "      <td>1.0</td>\n",
       "    </tr>\n",
       "    <tr>\n",
       "      <th>3</th>\n",
       "      <td>3</td>\n",
       "      <td>1</td>\n",
       "      <td>1</td>\n",
       "      <td>3.381916</td>\n",
       "      <td>2</td>\n",
       "      <td>2.079442</td>\n",
       "      <td>2.760010</td>\n",
       "      <td>20.0</td>\n",
       "      <td>1</td>\n",
       "      <td>4.0</td>\n",
       "      <td>2316750</td>\n",
       "      <td>1.0</td>\n",
       "      <td>3.430756</td>\n",
       "      <td>0.0</td>\n",
       "    </tr>\n",
       "    <tr>\n",
       "      <th>4</th>\n",
       "      <td>4</td>\n",
       "      <td>1</td>\n",
       "      <td>1</td>\n",
       "      <td>3.068028</td>\n",
       "      <td>2</td>\n",
       "      <td>2.468100</td>\n",
       "      <td>3.600048</td>\n",
       "      <td>15.0</td>\n",
       "      <td>1</td>\n",
       "      <td>19.0</td>\n",
       "      <td>3650000</td>\n",
       "      <td>2.0</td>\n",
       "      <td>4.301359</td>\n",
       "      <td>0.0</td>\n",
       "    </tr>\n",
       "  </tbody>\n",
       "</table>\n",
       "</div>"
      ],
      "text/plain": [
       "   Unnamed: 0  Bal  Brick      Dist  Floor     Kitsp    Livesp  Metrdist  New  \\\n",
       "0           0    1      1  0.592859      4  3.135494  4.553877       7.0    0   \n",
       "1           1    1      1  1.239630      6  3.621671  3.806662       9.0    0   \n",
       "2           2    1      1  0.781791      7  2.564949  4.234107       6.0    0   \n",
       "3           3    1      1  3.381916      2  2.079442  2.760010      20.0    1   \n",
       "4           4    1      1  3.068028      2  2.468100  3.600048      15.0    1   \n",
       "\n",
       "   Nfloor     Price  Rooms     Totsp  Walk  \n",
       "0     8.0  71014225    3.0  4.770685   1.0  \n",
       "1    14.0  85000000    3.0  4.737075   1.0  \n",
       "2     8.0  55000000    3.0  4.820282   1.0  \n",
       "3     4.0   2316750    1.0  3.430756   0.0  \n",
       "4    19.0   3650000    2.0  4.301359   0.0  "
      ]
     },
     "execution_count": 1,
     "metadata": {},
     "output_type": "execute_result"
    }
   ],
   "source": [
    "from sklearn.linear_model import LinearRegression as LR\n",
    "import numpy as np\n",
    "import pandas as pd\n",
    "data = pd.read_csv('data_cleaned.csv')\n",
    "data.head()"
   ]
  },
  {
   "cell_type": "markdown",
   "metadata": {},
   "source": [
    "### Очень неплохо походили на линейные зависимости, где мы логарифмировали цену. В связи с разбросом цен хорошей метрикой качества для наших моделей могла бы стать MAPE или MSPE. Принимая всё это во внимание, будем предсказывать логарифм цен."
   ]
  },
  {
   "cell_type": "code",
   "execution_count": 2,
   "metadata": {
    "collapsed": false
   },
   "outputs": [
    {
     "data": {
      "text/html": [
       "<div>\n",
       "<table border=\"1\" class=\"dataframe\">\n",
       "  <thead>\n",
       "    <tr style=\"text-align: right;\">\n",
       "      <th></th>\n",
       "      <th>Bal</th>\n",
       "      <th>Brick</th>\n",
       "      <th>Dist</th>\n",
       "      <th>Floor</th>\n",
       "      <th>Kitsp</th>\n",
       "      <th>Livesp</th>\n",
       "      <th>Metrdist</th>\n",
       "      <th>New</th>\n",
       "      <th>Nfloor</th>\n",
       "      <th>Price</th>\n",
       "      <th>Rooms</th>\n",
       "      <th>Totsp</th>\n",
       "      <th>Walk</th>\n",
       "    </tr>\n",
       "  </thead>\n",
       "  <tbody>\n",
       "    <tr>\n",
       "      <th>0</th>\n",
       "      <td>1</td>\n",
       "      <td>1</td>\n",
       "      <td>0.592859</td>\n",
       "      <td>4</td>\n",
       "      <td>3.135494</td>\n",
       "      <td>4.553877</td>\n",
       "      <td>7.0</td>\n",
       "      <td>0</td>\n",
       "      <td>8.0</td>\n",
       "      <td>18.078391</td>\n",
       "      <td>3.0</td>\n",
       "      <td>4.770685</td>\n",
       "      <td>1.0</td>\n",
       "    </tr>\n",
       "    <tr>\n",
       "      <th>1</th>\n",
       "      <td>1</td>\n",
       "      <td>1</td>\n",
       "      <td>1.239630</td>\n",
       "      <td>6</td>\n",
       "      <td>3.621671</td>\n",
       "      <td>3.806662</td>\n",
       "      <td>9.0</td>\n",
       "      <td>0</td>\n",
       "      <td>14.0</td>\n",
       "      <td>18.258162</td>\n",
       "      <td>3.0</td>\n",
       "      <td>4.737075</td>\n",
       "      <td>1.0</td>\n",
       "    </tr>\n",
       "    <tr>\n",
       "      <th>2</th>\n",
       "      <td>1</td>\n",
       "      <td>1</td>\n",
       "      <td>0.781791</td>\n",
       "      <td>7</td>\n",
       "      <td>2.564949</td>\n",
       "      <td>4.234107</td>\n",
       "      <td>6.0</td>\n",
       "      <td>0</td>\n",
       "      <td>8.0</td>\n",
       "      <td>17.822844</td>\n",
       "      <td>3.0</td>\n",
       "      <td>4.820282</td>\n",
       "      <td>1.0</td>\n",
       "    </tr>\n",
       "    <tr>\n",
       "      <th>3</th>\n",
       "      <td>1</td>\n",
       "      <td>1</td>\n",
       "      <td>3.381916</td>\n",
       "      <td>2</td>\n",
       "      <td>2.079442</td>\n",
       "      <td>2.760010</td>\n",
       "      <td>20.0</td>\n",
       "      <td>1</td>\n",
       "      <td>4.0</td>\n",
       "      <td>14.655676</td>\n",
       "      <td>1.0</td>\n",
       "      <td>3.430756</td>\n",
       "      <td>0.0</td>\n",
       "    </tr>\n",
       "    <tr>\n",
       "      <th>4</th>\n",
       "      <td>1</td>\n",
       "      <td>1</td>\n",
       "      <td>3.068028</td>\n",
       "      <td>2</td>\n",
       "      <td>2.468100</td>\n",
       "      <td>3.600048</td>\n",
       "      <td>15.0</td>\n",
       "      <td>1</td>\n",
       "      <td>19.0</td>\n",
       "      <td>15.110238</td>\n",
       "      <td>2.0</td>\n",
       "      <td>4.301359</td>\n",
       "      <td>0.0</td>\n",
       "    </tr>\n",
       "  </tbody>\n",
       "</table>\n",
       "</div>"
      ],
      "text/plain": [
       "   Bal  Brick      Dist  Floor     Kitsp    Livesp  Metrdist  New  Nfloor  \\\n",
       "0    1      1  0.592859      4  3.135494  4.553877       7.0    0     8.0   \n",
       "1    1      1  1.239630      6  3.621671  3.806662       9.0    0    14.0   \n",
       "2    1      1  0.781791      7  2.564949  4.234107       6.0    0     8.0   \n",
       "3    1      1  3.381916      2  2.079442  2.760010      20.0    1     4.0   \n",
       "4    1      1  3.068028      2  2.468100  3.600048      15.0    1    19.0   \n",
       "\n",
       "       Price  Rooms     Totsp  Walk  \n",
       "0  18.078391    3.0  4.770685   1.0  \n",
       "1  18.258162    3.0  4.737075   1.0  \n",
       "2  17.822844    3.0  4.820282   1.0  \n",
       "3  14.655676    1.0  3.430756   0.0  \n",
       "4  15.110238    2.0  4.301359   0.0  "
      ]
     },
     "execution_count": 2,
     "metadata": {},
     "output_type": "execute_result"
    }
   ],
   "source": [
    "data = data.drop('Unnamed: 0', 1)\n",
    "data.Price = data.Price.apply(np.log)\n",
    "data.head()"
   ]
  },
  {
   "cell_type": "markdown",
   "metadata": {},
   "source": [
    "### Начнём с классики - линейной регрессии."
   ]
  },
  {
   "cell_type": "code",
   "execution_count": 29,
   "metadata": {
    "collapsed": false
   },
   "outputs": [
    {
     "name": "stdout",
     "output_type": "stream",
     "text": [
      "MSE:  0.0409302979757\n",
      "MAE:  0.14673349541\n"
     ]
    }
   ],
   "source": [
    "from sklearn.cross_validation import train_test_split\n",
    "from sklearn.metrics import mean_absolute_error as mae\n",
    "from sklearn.metrics import mean_squared_error as mse\n",
    "lr = LR()\n",
    "X_train, X_test, y_train, y_test = train_test_split(data.drop('Price', 1), data.Price, test_size = 0.33)\n",
    "lr.fit(X_train, y_train)\n",
    "print('MSE: ', mse(lr.predict(X_test), y_test))\n",
    "print('MAE: ', mae(lr.predict(X_test), y_test))"
   ]
  },
  {
   "cell_type": "markdown",
   "metadata": {},
   "source": [
    "## MAE логарифма - 0.15, т.е. MAPE цены около 15%. Что ж, неплохо."
   ]
  },
  {
   "cell_type": "markdown",
   "metadata": {},
   "source": [
    "## Конечно же, попробуем xgboost."
   ]
  },
  {
   "cell_type": "code",
   "execution_count": 8,
   "metadata": {
    "collapsed": true
   },
   "outputs": [],
   "source": [
    "from xgboost import XGBRegressor as XGB"
   ]
  },
  {
   "cell_type": "code",
   "execution_count": 31,
   "metadata": {
    "collapsed": false
   },
   "outputs": [
    {
     "name": "stdout",
     "output_type": "stream",
     "text": [
      "MSE:  0.02418303949\n",
      "MAE:  0.109463382918\n",
      "CPU times: user 19.5 s, sys: 160 ms, total: 19.7 s\n",
      "Wall time: 5.24 s\n"
     ]
    }
   ],
   "source": [
    "%%time\n",
    "xgb1 = XGB(min_child_weight=10, n_estimators=1000, max_depth=10, subsample=0.66)\n",
    "xgb1.fit(X_train, y_train)\n",
    "print('MSE: ', mse(xgb1.predict(X_test), y_test))\n",
    "print('MAE: ', mae(xgb1.predict(X_test), y_test))"
   ]
  },
  {
   "cell_type": "markdown",
   "metadata": {},
   "source": [
    "## Эксперименты показывают, что сильно меньше MAE мы уже не сделаем. MAPE около 11%."
   ]
  },
  {
   "cell_type": "code",
   "execution_count": 32,
   "metadata": {
    "collapsed": false
   },
   "outputs": [
    {
     "name": "stdout",
     "output_type": "stream",
     "text": [
      "MSE:  0.0246662731064\n",
      "MAE:  0.110538100007\n",
      "CPU times: user 2min 1s, sys: 1.84 s, total: 2min 3s\n",
      "Wall time: 35.8 s\n"
     ]
    }
   ],
   "source": [
    "%%time\n",
    "xgb1 = XGB(min_child_weight=7, n_estimators=10000, max_depth=20, subsample=0.66, colsample_bylevel=0.66)\n",
    "xgb1.fit(X_train, y_train)\n",
    "print('MSE: ', mse(xgb1.predict(X_test), y_test))\n",
    "print('MAE: ', mae(xgb1.predict(X_test), y_test))"
   ]
  }
 ],
 "metadata": {
  "anaconda-cloud": {},
  "kernelspec": {
   "display_name": "Python [conda root]",
   "language": "python",
   "name": "conda-root-py"
  },
  "language_info": {
   "codemirror_mode": {
    "name": "ipython",
    "version": 3
   },
   "file_extension": ".py",
   "mimetype": "text/x-python",
   "name": "python",
   "nbconvert_exporter": "python",
   "pygments_lexer": "ipython3",
   "version": "3.5.2"
  }
 },
 "nbformat": 4,
 "nbformat_minor": 1
}
