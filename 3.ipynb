{
 "cells": [
  {
   "cell_type": "markdown",
   "metadata": {},
   "source": [
    "# Построение моделей"
   ]
  },
  {
   "cell_type": "code",
   "execution_count": 2,
   "metadata": {
    "collapsed": false
   },
   "outputs": [
    {
     "data": {
      "text/html": [
       "<div>\n",
       "<table border=\"1\" class=\"dataframe\">\n",
       "  <thead>\n",
       "    <tr style=\"text-align: right;\">\n",
       "      <th></th>\n",
       "      <th>Unnamed: 0</th>\n",
       "      <th>Bal</th>\n",
       "      <th>Brick</th>\n",
       "      <th>Dist</th>\n",
       "      <th>Floor</th>\n",
       "      <th>Kitsp</th>\n",
       "      <th>Livesp</th>\n",
       "      <th>Metrdist</th>\n",
       "      <th>New</th>\n",
       "      <th>Nfloor</th>\n",
       "      <th>Price</th>\n",
       "      <th>Rooms</th>\n",
       "      <th>Totsp</th>\n",
       "      <th>Walk</th>\n",
       "    </tr>\n",
       "  </thead>\n",
       "  <tbody>\n",
       "    <tr>\n",
       "      <th>0</th>\n",
       "      <td>0</td>\n",
       "      <td>1</td>\n",
       "      <td>1</td>\n",
       "      <td>0.592859</td>\n",
       "      <td>4</td>\n",
       "      <td>3.135494</td>\n",
       "      <td>4.553877</td>\n",
       "      <td>7.0</td>\n",
       "      <td>0</td>\n",
       "      <td>8.0</td>\n",
       "      <td>71014225</td>\n",
       "      <td>3.0</td>\n",
       "      <td>4.770685</td>\n",
       "      <td>1.0</td>\n",
       "    </tr>\n",
       "    <tr>\n",
       "      <th>1</th>\n",
       "      <td>1</td>\n",
       "      <td>1</td>\n",
       "      <td>1</td>\n",
       "      <td>1.239630</td>\n",
       "      <td>6</td>\n",
       "      <td>3.621671</td>\n",
       "      <td>3.806662</td>\n",
       "      <td>9.0</td>\n",
       "      <td>0</td>\n",
       "      <td>14.0</td>\n",
       "      <td>85000000</td>\n",
       "      <td>3.0</td>\n",
       "      <td>4.737075</td>\n",
       "      <td>1.0</td>\n",
       "    </tr>\n",
       "    <tr>\n",
       "      <th>2</th>\n",
       "      <td>2</td>\n",
       "      <td>1</td>\n",
       "      <td>1</td>\n",
       "      <td>0.781791</td>\n",
       "      <td>7</td>\n",
       "      <td>2.564949</td>\n",
       "      <td>4.234107</td>\n",
       "      <td>6.0</td>\n",
       "      <td>0</td>\n",
       "      <td>8.0</td>\n",
       "      <td>55000000</td>\n",
       "      <td>3.0</td>\n",
       "      <td>4.820282</td>\n",
       "      <td>1.0</td>\n",
       "    </tr>\n",
       "    <tr>\n",
       "      <th>3</th>\n",
       "      <td>3</td>\n",
       "      <td>1</td>\n",
       "      <td>1</td>\n",
       "      <td>3.381916</td>\n",
       "      <td>2</td>\n",
       "      <td>2.079442</td>\n",
       "      <td>2.760010</td>\n",
       "      <td>20.0</td>\n",
       "      <td>1</td>\n",
       "      <td>4.0</td>\n",
       "      <td>2316750</td>\n",
       "      <td>1.0</td>\n",
       "      <td>3.430756</td>\n",
       "      <td>0.0</td>\n",
       "    </tr>\n",
       "    <tr>\n",
       "      <th>4</th>\n",
       "      <td>4</td>\n",
       "      <td>1</td>\n",
       "      <td>1</td>\n",
       "      <td>3.068028</td>\n",
       "      <td>2</td>\n",
       "      <td>2.468100</td>\n",
       "      <td>3.600048</td>\n",
       "      <td>15.0</td>\n",
       "      <td>1</td>\n",
       "      <td>19.0</td>\n",
       "      <td>3650000</td>\n",
       "      <td>2.0</td>\n",
       "      <td>4.301359</td>\n",
       "      <td>0.0</td>\n",
       "    </tr>\n",
       "  </tbody>\n",
       "</table>\n",
       "</div>"
      ],
      "text/plain": [
       "   Unnamed: 0  Bal  Brick      Dist  Floor     Kitsp    Livesp  Metrdist  New  \\\n",
       "0           0    1      1  0.592859      4  3.135494  4.553877       7.0    0   \n",
       "1           1    1      1  1.239630      6  3.621671  3.806662       9.0    0   \n",
       "2           2    1      1  0.781791      7  2.564949  4.234107       6.0    0   \n",
       "3           3    1      1  3.381916      2  2.079442  2.760010      20.0    1   \n",
       "4           4    1      1  3.068028      2  2.468100  3.600048      15.0    1   \n",
       "\n",
       "   Nfloor     Price  Rooms     Totsp  Walk  \n",
       "0     8.0  71014225    3.0  4.770685   1.0  \n",
       "1    14.0  85000000    3.0  4.737075   1.0  \n",
       "2     8.0  55000000    3.0  4.820282   1.0  \n",
       "3     4.0   2316750    1.0  3.430756   0.0  \n",
       "4    19.0   3650000    2.0  4.301359   0.0  "
      ]
     },
     "execution_count": 2,
     "metadata": {},
     "output_type": "execute_result"
    }
   ],
   "source": [
    "from sklearn.linear_model import LinearRegression as LR\n",
    "import numpy as np\n",
    "import pandas as pd\n",
    "data = pd.read_csv('data_cleaned.csv')\n",
    "data.head()"
   ]
  },
  {
   "cell_type": "markdown",
   "metadata": {},
   "source": [
    "### Очень неплохо походили на линейные зависимости, где мы логарифмировали цену. В связи с разбросом цен хорошей метрикой качества для наших моделей могла бы стать MAPE или MSPE. Принимая всё это во внимание, будем предсказывать логарифм цен."
   ]
  },
  {
   "cell_type": "code",
   "execution_count": 3,
   "metadata": {
    "collapsed": false
   },
   "outputs": [
    {
     "data": {
      "text/html": [
       "<div>\n",
       "<table border=\"1\" class=\"dataframe\">\n",
       "  <thead>\n",
       "    <tr style=\"text-align: right;\">\n",
       "      <th></th>\n",
       "      <th>Bal</th>\n",
       "      <th>Brick</th>\n",
       "      <th>Dist</th>\n",
       "      <th>Floor</th>\n",
       "      <th>Kitsp</th>\n",
       "      <th>Livesp</th>\n",
       "      <th>Metrdist</th>\n",
       "      <th>New</th>\n",
       "      <th>Nfloor</th>\n",
       "      <th>Price</th>\n",
       "      <th>Rooms</th>\n",
       "      <th>Totsp</th>\n",
       "      <th>Walk</th>\n",
       "    </tr>\n",
       "  </thead>\n",
       "  <tbody>\n",
       "    <tr>\n",
       "      <th>0</th>\n",
       "      <td>1</td>\n",
       "      <td>1</td>\n",
       "      <td>0.592859</td>\n",
       "      <td>4</td>\n",
       "      <td>3.135494</td>\n",
       "      <td>4.553877</td>\n",
       "      <td>7.0</td>\n",
       "      <td>0</td>\n",
       "      <td>8.0</td>\n",
       "      <td>18.078391</td>\n",
       "      <td>3.0</td>\n",
       "      <td>4.770685</td>\n",
       "      <td>1.0</td>\n",
       "    </tr>\n",
       "    <tr>\n",
       "      <th>1</th>\n",
       "      <td>1</td>\n",
       "      <td>1</td>\n",
       "      <td>1.239630</td>\n",
       "      <td>6</td>\n",
       "      <td>3.621671</td>\n",
       "      <td>3.806662</td>\n",
       "      <td>9.0</td>\n",
       "      <td>0</td>\n",
       "      <td>14.0</td>\n",
       "      <td>18.258162</td>\n",
       "      <td>3.0</td>\n",
       "      <td>4.737075</td>\n",
       "      <td>1.0</td>\n",
       "    </tr>\n",
       "    <tr>\n",
       "      <th>2</th>\n",
       "      <td>1</td>\n",
       "      <td>1</td>\n",
       "      <td>0.781791</td>\n",
       "      <td>7</td>\n",
       "      <td>2.564949</td>\n",
       "      <td>4.234107</td>\n",
       "      <td>6.0</td>\n",
       "      <td>0</td>\n",
       "      <td>8.0</td>\n",
       "      <td>17.822844</td>\n",
       "      <td>3.0</td>\n",
       "      <td>4.820282</td>\n",
       "      <td>1.0</td>\n",
       "    </tr>\n",
       "    <tr>\n",
       "      <th>3</th>\n",
       "      <td>1</td>\n",
       "      <td>1</td>\n",
       "      <td>3.381916</td>\n",
       "      <td>2</td>\n",
       "      <td>2.079442</td>\n",
       "      <td>2.760010</td>\n",
       "      <td>20.0</td>\n",
       "      <td>1</td>\n",
       "      <td>4.0</td>\n",
       "      <td>14.655676</td>\n",
       "      <td>1.0</td>\n",
       "      <td>3.430756</td>\n",
       "      <td>0.0</td>\n",
       "    </tr>\n",
       "    <tr>\n",
       "      <th>4</th>\n",
       "      <td>1</td>\n",
       "      <td>1</td>\n",
       "      <td>3.068028</td>\n",
       "      <td>2</td>\n",
       "      <td>2.468100</td>\n",
       "      <td>3.600048</td>\n",
       "      <td>15.0</td>\n",
       "      <td>1</td>\n",
       "      <td>19.0</td>\n",
       "      <td>15.110238</td>\n",
       "      <td>2.0</td>\n",
       "      <td>4.301359</td>\n",
       "      <td>0.0</td>\n",
       "    </tr>\n",
       "  </tbody>\n",
       "</table>\n",
       "</div>"
      ],
      "text/plain": [
       "   Bal  Brick      Dist  Floor     Kitsp    Livesp  Metrdist  New  Nfloor  \\\n",
       "0    1      1  0.592859      4  3.135494  4.553877       7.0    0     8.0   \n",
       "1    1      1  1.239630      6  3.621671  3.806662       9.0    0    14.0   \n",
       "2    1      1  0.781791      7  2.564949  4.234107       6.0    0     8.0   \n",
       "3    1      1  3.381916      2  2.079442  2.760010      20.0    1     4.0   \n",
       "4    1      1  3.068028      2  2.468100  3.600048      15.0    1    19.0   \n",
       "\n",
       "       Price  Rooms     Totsp  Walk  \n",
       "0  18.078391    3.0  4.770685   1.0  \n",
       "1  18.258162    3.0  4.737075   1.0  \n",
       "2  17.822844    3.0  4.820282   1.0  \n",
       "3  14.655676    1.0  3.430756   0.0  \n",
       "4  15.110238    2.0  4.301359   0.0  "
      ]
     },
     "execution_count": 3,
     "metadata": {},
     "output_type": "execute_result"
    }
   ],
   "source": [
    "data = data.drop('Unnamed: 0', 1)\n",
    "data.Price = data.Price.apply(np.log)\n",
    "data.head()"
   ]
  },
  {
   "cell_type": "code",
   "execution_count": 4,
   "metadata": {
    "collapsed": false
   },
   "outputs": [
    {
     "data": {
      "text/html": [
       "<div>\n",
       "<table border=\"1\" class=\"dataframe\">\n",
       "  <thead>\n",
       "    <tr style=\"text-align: right;\">\n",
       "      <th></th>\n",
       "      <th>Bal</th>\n",
       "      <th>Brick</th>\n",
       "      <th>Dist</th>\n",
       "      <th>Floor</th>\n",
       "      <th>Kitsp</th>\n",
       "      <th>Livesp</th>\n",
       "      <th>Metrdist</th>\n",
       "      <th>New</th>\n",
       "      <th>Nfloor</th>\n",
       "      <th>Price</th>\n",
       "      <th>Rooms</th>\n",
       "      <th>Totsp</th>\n",
       "      <th>Walk</th>\n",
       "    </tr>\n",
       "  </thead>\n",
       "  <tbody>\n",
       "    <tr>\n",
       "      <th>count</th>\n",
       "      <td>5754.000000</td>\n",
       "      <td>5754.000000</td>\n",
       "      <td>5754.000000</td>\n",
       "      <td>5754.000000</td>\n",
       "      <td>5754.000000</td>\n",
       "      <td>5754.000000</td>\n",
       "      <td>5754.000000</td>\n",
       "      <td>5754.000000</td>\n",
       "      <td>5754.000000</td>\n",
       "      <td>5754.000000</td>\n",
       "      <td>5754.000000</td>\n",
       "      <td>5754.000000</td>\n",
       "      <td>5754.000000</td>\n",
       "    </tr>\n",
       "    <tr>\n",
       "      <th>mean</th>\n",
       "      <td>0.918144</td>\n",
       "      <td>0.459854</td>\n",
       "      <td>2.431488</td>\n",
       "      <td>7.093848</td>\n",
       "      <td>2.159514</td>\n",
       "      <td>3.267184</td>\n",
       "      <td>10.987313</td>\n",
       "      <td>0.227320</td>\n",
       "      <td>13.825165</td>\n",
       "      <td>15.885618</td>\n",
       "      <td>1.739275</td>\n",
       "      <td>3.852422</td>\n",
       "      <td>0.696211</td>\n",
       "    </tr>\n",
       "    <tr>\n",
       "      <th>std</th>\n",
       "      <td>0.274169</td>\n",
       "      <td>0.498429</td>\n",
       "      <td>0.578211</td>\n",
       "      <td>5.788847</td>\n",
       "      <td>0.373936</td>\n",
       "      <td>0.427737</td>\n",
       "      <td>6.249938</td>\n",
       "      <td>0.419137</td>\n",
       "      <td>7.835282</td>\n",
       "      <td>0.532671</td>\n",
       "      <td>0.794763</td>\n",
       "      <td>0.349293</td>\n",
       "      <td>0.459932</td>\n",
       "    </tr>\n",
       "    <tr>\n",
       "      <th>min</th>\n",
       "      <td>0.000000</td>\n",
       "      <td>0.000000</td>\n",
       "      <td>0.087027</td>\n",
       "      <td>1.000000</td>\n",
       "      <td>0.000000</td>\n",
       "      <td>1.386294</td>\n",
       "      <td>1.000000</td>\n",
       "      <td>0.000000</td>\n",
       "      <td>1.000000</td>\n",
       "      <td>14.151586</td>\n",
       "      <td>0.846768</td>\n",
       "      <td>2.406945</td>\n",
       "      <td>0.000000</td>\n",
       "    </tr>\n",
       "    <tr>\n",
       "      <th>25%</th>\n",
       "      <td>1.000000</td>\n",
       "      <td>0.000000</td>\n",
       "      <td>2.187919</td>\n",
       "      <td>3.000000</td>\n",
       "      <td>1.871802</td>\n",
       "      <td>2.944439</td>\n",
       "      <td>7.000000</td>\n",
       "      <td>0.000000</td>\n",
       "      <td>9.000000</td>\n",
       "      <td>15.573368</td>\n",
       "      <td>1.000000</td>\n",
       "      <td>3.637586</td>\n",
       "      <td>0.000000</td>\n",
       "    </tr>\n",
       "    <tr>\n",
       "      <th>50%</th>\n",
       "      <td>1.000000</td>\n",
       "      <td>0.000000</td>\n",
       "      <td>2.563464</td>\n",
       "      <td>5.000000</td>\n",
       "      <td>2.151762</td>\n",
       "      <td>3.258097</td>\n",
       "      <td>10.000000</td>\n",
       "      <td>0.000000</td>\n",
       "      <td>12.000000</td>\n",
       "      <td>15.825769</td>\n",
       "      <td>2.000000</td>\n",
       "      <td>3.804438</td>\n",
       "      <td>1.000000</td>\n",
       "    </tr>\n",
       "    <tr>\n",
       "      <th>75%</th>\n",
       "      <td>1.000000</td>\n",
       "      <td>1.000000</td>\n",
       "      <td>2.798027</td>\n",
       "      <td>10.000000</td>\n",
       "      <td>2.332144</td>\n",
       "      <td>3.526361</td>\n",
       "      <td>15.000000</td>\n",
       "      <td>0.000000</td>\n",
       "      <td>17.000000</td>\n",
       "      <td>16.102982</td>\n",
       "      <td>2.000000</td>\n",
       "      <td>4.043051</td>\n",
       "      <td>1.000000</td>\n",
       "    </tr>\n",
       "    <tr>\n",
       "      <th>max</th>\n",
       "      <td>1.000000</td>\n",
       "      <td>1.000000</td>\n",
       "      <td>4.116403</td>\n",
       "      <td>45.000000</td>\n",
       "      <td>3.737670</td>\n",
       "      <td>5.762051</td>\n",
       "      <td>54.000000</td>\n",
       "      <td>1.000000</td>\n",
       "      <td>77.000000</td>\n",
       "      <td>19.191392</td>\n",
       "      <td>5.000000</td>\n",
       "      <td>5.934894</td>\n",
       "      <td>1.000000</td>\n",
       "    </tr>\n",
       "  </tbody>\n",
       "</table>\n",
       "</div>"
      ],
      "text/plain": [
       "               Bal        Brick         Dist        Floor        Kitsp  \\\n",
       "count  5754.000000  5754.000000  5754.000000  5754.000000  5754.000000   \n",
       "mean      0.918144     0.459854     2.431488     7.093848     2.159514   \n",
       "std       0.274169     0.498429     0.578211     5.788847     0.373936   \n",
       "min       0.000000     0.000000     0.087027     1.000000     0.000000   \n",
       "25%       1.000000     0.000000     2.187919     3.000000     1.871802   \n",
       "50%       1.000000     0.000000     2.563464     5.000000     2.151762   \n",
       "75%       1.000000     1.000000     2.798027    10.000000     2.332144   \n",
       "max       1.000000     1.000000     4.116403    45.000000     3.737670   \n",
       "\n",
       "            Livesp     Metrdist          New       Nfloor        Price  \\\n",
       "count  5754.000000  5754.000000  5754.000000  5754.000000  5754.000000   \n",
       "mean      3.267184    10.987313     0.227320    13.825165    15.885618   \n",
       "std       0.427737     6.249938     0.419137     7.835282     0.532671   \n",
       "min       1.386294     1.000000     0.000000     1.000000    14.151586   \n",
       "25%       2.944439     7.000000     0.000000     9.000000    15.573368   \n",
       "50%       3.258097    10.000000     0.000000    12.000000    15.825769   \n",
       "75%       3.526361    15.000000     0.000000    17.000000    16.102982   \n",
       "max       5.762051    54.000000     1.000000    77.000000    19.191392   \n",
       "\n",
       "             Rooms        Totsp         Walk  \n",
       "count  5754.000000  5754.000000  5754.000000  \n",
       "mean      1.739275     3.852422     0.696211  \n",
       "std       0.794763     0.349293     0.459932  \n",
       "min       0.846768     2.406945     0.000000  \n",
       "25%       1.000000     3.637586     0.000000  \n",
       "50%       2.000000     3.804438     1.000000  \n",
       "75%       2.000000     4.043051     1.000000  \n",
       "max       5.000000     5.934894     1.000000  "
      ]
     },
     "execution_count": 4,
     "metadata": {},
     "output_type": "execute_result"
    }
   ],
   "source": [
    "data.describe()"
   ]
  },
  {
   "cell_type": "markdown",
   "metadata": {},
   "source": [
    "### Начнём с классики - линейной регрессии."
   ]
  },
  {
   "cell_type": "code",
   "execution_count": 6,
   "metadata": {
    "collapsed": false
   },
   "outputs": [
    {
     "name": "stdout",
     "output_type": "stream",
     "text": [
      "RMSE:  0.220517030116\n",
      "MAE:  0.153990762136\n"
     ]
    }
   ],
   "source": [
    "from sklearn.cross_validation import train_test_split\n",
    "from sklearn.metrics import mean_absolute_error as mae\n",
    "from sklearn.metrics import mean_squared_error as mse\n",
    "lr = LR()\n",
    "X_train, X_test, y_train, y_test = train_test_split(data.drop('Price', 1), data.Price, test_size = 0.33)\n",
    "lr.fit(X_train, y_train)\n",
    "print('RMSE: ', mse(lr.predict(X_test), y_test)**0.5)\n",
    "print('MAE: ', mae(lr.predict(X_test), y_test))"
   ]
  },
  {
   "cell_type": "code",
   "execution_count": 14,
   "metadata": {
    "collapsed": false
   },
   "outputs": [
    {
     "data": {
      "text/html": [
       "<div>\n",
       "<table border=\"1\" class=\"dataframe\">\n",
       "  <thead>\n",
       "    <tr style=\"text-align: right;\">\n",
       "      <th></th>\n",
       "      <th>coef</th>\n",
       "    </tr>\n",
       "  </thead>\n",
       "  <tbody>\n",
       "    <tr>\n",
       "      <th>Bal</th>\n",
       "      <td>-0.083781</td>\n",
       "    </tr>\n",
       "    <tr>\n",
       "      <th>Brick</th>\n",
       "      <td>0.033047</td>\n",
       "    </tr>\n",
       "    <tr>\n",
       "      <th>Dist</th>\n",
       "      <td>-0.371240</td>\n",
       "    </tr>\n",
       "    <tr>\n",
       "      <th>Floor</th>\n",
       "      <td>0.004738</td>\n",
       "    </tr>\n",
       "    <tr>\n",
       "      <th>Kitsp</th>\n",
       "      <td>0.067650</td>\n",
       "    </tr>\n",
       "    <tr>\n",
       "      <th>Livesp</th>\n",
       "      <td>-0.044837</td>\n",
       "    </tr>\n",
       "    <tr>\n",
       "      <th>Metrdist</th>\n",
       "      <td>-0.006004</td>\n",
       "    </tr>\n",
       "    <tr>\n",
       "      <th>New</th>\n",
       "      <td>-0.189499</td>\n",
       "    </tr>\n",
       "    <tr>\n",
       "      <th>Nfloor</th>\n",
       "      <td>0.005153</td>\n",
       "    </tr>\n",
       "    <tr>\n",
       "      <th>Rooms</th>\n",
       "      <td>-0.068258</td>\n",
       "    </tr>\n",
       "    <tr>\n",
       "      <th>Totsp</th>\n",
       "      <td>1.201590</td>\n",
       "    </tr>\n",
       "    <tr>\n",
       "      <th>Walk</th>\n",
       "      <td>0.084915</td>\n",
       "    </tr>\n",
       "  </tbody>\n",
       "</table>\n",
       "</div>"
      ],
      "text/plain": [
       "              coef\n",
       "Bal      -0.083781\n",
       "Brick     0.033047\n",
       "Dist     -0.371240\n",
       "Floor     0.004738\n",
       "Kitsp     0.067650\n",
       "Livesp   -0.044837\n",
       "Metrdist -0.006004\n",
       "New      -0.189499\n",
       "Nfloor    0.005153\n",
       "Rooms    -0.068258\n",
       "Totsp     1.201590\n",
       "Walk      0.084915"
      ]
     },
     "execution_count": 14,
     "metadata": {},
     "output_type": "execute_result"
    }
   ],
   "source": [
    "pd.DataFrame(lr.coef_, index=data.drop('Price', 1).columns, columns=['coef'])"
   ]
  },
  {
   "cell_type": "markdown",
   "metadata": {},
   "source": [
    "### Для ценообразования наиболее важными являются такие признаки как полная площадь, время до метро и можно ли дойти него пешком, первичный рынок или вторичкаю"
   ]
  },
  {
   "cell_type": "markdown",
   "metadata": {},
   "source": [
    "## MAE логарифма - 0.15, т.е. MAPE цены около 15%. Что ж, неплохо."
   ]
  },
  {
   "cell_type": "markdown",
   "metadata": {},
   "source": [
    "## Конечно же, попробуем xgboost."
   ]
  },
  {
   "cell_type": "code",
   "execution_count": 8,
   "metadata": {
    "collapsed": true
   },
   "outputs": [],
   "source": [
    "from xgboost import XGBRegressor as XGB"
   ]
  },
  {
   "cell_type": "code",
   "execution_count": 9,
   "metadata": {
    "collapsed": false
   },
   "outputs": [
    {
     "name": "stdout",
     "output_type": "stream",
     "text": [
      "RMSE:  0.166778634905\n",
      "MAE:  0.113442709423\n",
      "CPU times: user 22.7 s, sys: 268 ms, total: 23 s\n",
      "Wall time: 6.4 s\n"
     ]
    }
   ],
   "source": [
    "%%time\n",
    "xgb1 = XGB(min_child_weight=10, n_estimators=1000, max_depth=10, subsample=0.66)\n",
    "xgb1.fit(X_train, y_train)\n",
    "print('RMSE: ', mse(xgb1.predict(X_test), y_test)**0.5)\n",
    "print('MAE: ', mae(xgb1.predict(X_test), y_test))"
   ]
  },
  {
   "cell_type": "markdown",
   "metadata": {},
   "source": [
    "## Эксперименты показывают, что сильно меньше MAE мы уже не сделаем. MAPE около 11%."
   ]
  },
  {
   "cell_type": "code",
   "execution_count": 10,
   "metadata": {
    "collapsed": false
   },
   "outputs": [
    {
     "name": "stdout",
     "output_type": "stream",
     "text": [
      "RMSE:  0.167274436086\n",
      "MAE:  0.112867210463\n",
      "CPU times: user 1min 39s, sys: 1.26 s, total: 1min 40s\n",
      "Wall time: 27.3 s\n"
     ]
    }
   ],
   "source": [
    "%%time\n",
    "xgb1 = XGB(min_child_weight=7, n_estimators=10000, max_depth=20, subsample=0.66, colsample_bylevel=0.66)\n",
    "xgb1.fit(X_train, y_train)\n",
    "print('RMSE: ', mse(xgb1.predict(X_test), y_test)**0.5)\n",
    "print('MAE: ', mae(xgb1.predict(X_test), y_test))"
   ]
  },
  {
   "cell_type": "markdown",
   "metadata": {},
   "source": [
    "## Lasso и Ridge регрессии"
   ]
  },
  {
   "cell_type": "code",
   "execution_count": 23,
   "metadata": {
    "collapsed": false
   },
   "outputs": [
    {
     "name": "stdout",
     "output_type": "stream",
     "text": [
      "RMSE:  0.556626172266\n",
      "MAE:  0.379426297292\n"
     ]
    }
   ],
   "source": [
    "from sklearn.linear_model import Ridge as R\n",
    "from sklearn.linear_model import Lasso as L\n",
    "l = L()\n",
    "r = R()\n",
    "l.fit(X_train, y_train)\n",
    "print('RMSE: ', mse(l.predict(X_test), y_test)**0.5)\n",
    "print('MAE: ', mae(l.predict(X_test), y_test))"
   ]
  },
  {
   "cell_type": "code",
   "execution_count": 16,
   "metadata": {
    "collapsed": false
   },
   "outputs": [
    {
     "name": "stdout",
     "output_type": "stream",
     "text": [
      "RMSE:  0.220346014352\n",
      "MAE:  0.153859392017\n"
     ]
    }
   ],
   "source": [
    "r.fit(X_train, y_train)\n",
    "print('RMSE: ', mse(r.predict(X_test), y_test)**0.5)\n",
    "print('MAE: ', mae(r.predict(X_test), y_test))"
   ]
  }
 ],
 "metadata": {
  "anaconda-cloud": {},
  "kernelspec": {
   "display_name": "Python [conda root]",
   "language": "python",
   "name": "conda-root-py"
  },
  "language_info": {
   "codemirror_mode": {
    "name": "ipython",
    "version": 3
   },
   "file_extension": ".py",
   "mimetype": "text/x-python",
   "name": "python",
   "nbconvert_exporter": "python",
   "pygments_lexer": "ipython3",
   "version": "3.5.2"
  }
 },
 "nbformat": 4,
 "nbformat_minor": 1
}
